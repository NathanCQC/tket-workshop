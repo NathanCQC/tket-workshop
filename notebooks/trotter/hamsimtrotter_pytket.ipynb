{
 "cells": [
  {
   "cell_type": "code",
   "execution_count": 1,
   "metadata": {},
   "outputs": [],
   "source": [
    "from pytket.pauli import Pauli, QubitPauliString\n",
    "from pytket.utils import QubitPauliOperator\n",
    "from pytket.circuit import Circuit,Qubit,CircBox\n",
    "from pytket.circuit.display import render_circuit_jupyter\n",
    "import numpy as np"
   ]
  },
  {
   "cell_type": "markdown",
   "metadata": {},
   "source": [
    "## Hamiltonian\n",
    "- Arbitrary Hamiltonian"
   ]
  },
  {
   "cell_type": "code",
   "execution_count": 2,
   "metadata": {},
   "outputs": [],
   "source": [
    "hamiltonian = QubitPauliOperator(\n",
    "    {\n",
    "        QubitPauliString([Qubit(0)], [Pauli.Z]): 0.1,\n",
    "        QubitPauliString(\n",
    "            [Qubit(0), Qubit(1), Qubit(2), Qubit(3)],\n",
    "            [Pauli.Y, Pauli.Z, Pauli.X, Pauli.X],\n",
    "        ): 0.4,\n",
    "        QubitPauliString([Qubit(0), Qubit(1)], [Pauli.X, Pauli.X]): 0.2,\n",
    "    }\n",
    ")"
   ]
  },
  {
   "cell_type": "markdown",
   "metadata": {},
   "source": [
    "## Time Sliced Hamiltonian"
   ]
  },
  {
   "cell_type": "code",
   "execution_count": 3,
   "metadata": {},
   "outputs": [
    {
     "name": "stdout",
     "output_type": "stream",
     "text": [
      "Time step: 0.5\n"
     ]
    }
   ],
   "source": [
    "t_max = 10\n",
    "n_trotter_steps = 20\n",
    "time_step = t_max / n_trotter_steps\n",
    "time_space = np.linspace(0, t_max, n_trotter_steps)\n",
    "print(f'Time step: {time_step}')\n",
    "\n",
    "hamiltonian_slice = hamiltonian * time_step"
   ]
  },
  {
   "cell_type": "markdown",
   "metadata": {},
   "source": [
    "Pauli"
   ]
  },
  {
   "cell_type": "markdown",
   "metadata": {},
   "source": [
    "## PauliExpBox\n",
    "- Generate PauliExpBoxes for each term in Hamiltonian\n",
    "- `gen_term_sequence_circuit` will generate a circuit with $ U = e^{iP_0\\tau} e^{iP_1\\tau} \\cdots$\n",
    "- Where the citcuit is partitions into various commuting sets https://arxiv.org/pdf/2007.10515.pdf\n"
   ]
  },
  {
   "cell_type": "code",
   "execution_count": 4,
   "metadata": {},
   "outputs": [],
   "source": [
    "from pytket.utils import gen_term_sequence_circuit\n",
    "initial_state = Circuit(4)\n",
    "trotter_step_circ = gen_term_sequence_circuit(hamiltonian_slice,initial_state)\n"
   ]
  },
  {
   "cell_type": "markdown",
   "metadata": {},
   "source": [
    "- We can obtain the pauli gadgets by looking into the component Circboxes"
   ]
  },
  {
   "cell_type": "code",
   "execution_count": 5,
   "metadata": {},
   "outputs": [],
   "source": [
    "pauliexpbox0 = trotter_step_circ.get_commands()[1].op\n",
    "box_circ = pauliexpbox0.get_circuit()"
   ]
  },
  {
   "cell_type": "markdown",
   "metadata": {},
   "source": [
    "- And decomposing the PauliExpBox we can see it is a Pauli Gadget "
   ]
  },
  {
   "cell_type": "code",
   "execution_count": 6,
   "metadata": {},
   "outputs": [
    {
     "data": {
      "text/html": [
       "\n",
       "\n",
       "\n",
       "\n",
       "\n",
       "\n",
       "<div style=\"resize: vertical; overflow: auto; height: 400px; display: block\">\n",
       "    <iframe srcdoc=\"\n",
       "&lt;!DOCTYPE html&gt;\n",
       "&lt;html lang=&#34;en&#34;&gt;\n",
       "&lt;head&gt;\n",
       "    &lt;meta charset=&#34;UTF-8&#34;&gt;\n",
       "    &lt;!-- Download Vue 3--&gt;\n",
       "&lt;script type=&#34;application/javascript&#34; src=&#34;https://cdn.jsdelivr.net/npm/vue@3&#34;&gt;&lt;/script&gt;\n",
       "&lt;!-- Download Circuit Renderer with styles --&gt;\n",
       "&lt;script type=&#34;application/javascript&#34; src=&#34;https://unpkg.com/pytket-circuit-renderer@0.6/dist/pytket-circuit-renderer.umd.js&#34;&gt;&lt;/script&gt;\n",
       "&lt;link rel=&#34;stylesheet&#34; href=&#34;https://unpkg.com/pytket-circuit-renderer@0.6/dist/pytket-circuit-renderer.css&#34;&gt;\n",
       "&lt;/head&gt;\n",
       "&lt;body&gt;\n",
       "\n",
       "\n",
       "\n",
       "    &lt;div id=&#34;circuit-display-vue-container-9667f53b-0c8c-4518-b1b9-fe4f260da7b1&#34; class=&#34;pytket-circuit-display-container&#34;&gt;\n",
       "        &lt;div style=&#34;display: none&#34;&gt;\n",
       "            &lt;div id=&#34;circuit-json-to-display&#34;&gt;{&#34;bits&#34;: [], &#34;commands&#34;: [{&#34;args&#34;: [[&#34;q&#34;, [0]]], &#34;op&#34;: {&#34;type&#34;: &#34;V&#34;}}, {&#34;args&#34;: [[&#34;q&#34;, [2]]], &#34;op&#34;: {&#34;type&#34;: &#34;H&#34;}}, {&#34;args&#34;: [[&#34;q&#34;, [3]]], &#34;op&#34;: {&#34;type&#34;: &#34;H&#34;}}, {&#34;args&#34;: [[&#34;q&#34;, [3]], [&#34;q&#34;, [2]]], &#34;op&#34;: {&#34;type&#34;: &#34;CX&#34;}}, {&#34;args&#34;: [[&#34;q&#34;, [2]], [&#34;q&#34;, [1]]], &#34;op&#34;: {&#34;type&#34;: &#34;CX&#34;}}, {&#34;args&#34;: [[&#34;q&#34;, [1]], [&#34;q&#34;, [0]]], &#34;op&#34;: {&#34;type&#34;: &#34;CX&#34;}}, {&#34;args&#34;: [[&#34;q&#34;, [0]]], &#34;op&#34;: {&#34;params&#34;: [&#34;0.2&#34;], &#34;type&#34;: &#34;Rz&#34;}}, {&#34;args&#34;: [[&#34;q&#34;, [1]], [&#34;q&#34;, [0]]], &#34;op&#34;: {&#34;type&#34;: &#34;CX&#34;}}, {&#34;args&#34;: [[&#34;q&#34;, [0]]], &#34;op&#34;: {&#34;type&#34;: &#34;Vdg&#34;}}, {&#34;args&#34;: [[&#34;q&#34;, [2]], [&#34;q&#34;, [1]]], &#34;op&#34;: {&#34;type&#34;: &#34;CX&#34;}}, {&#34;args&#34;: [[&#34;q&#34;, [3]], [&#34;q&#34;, [2]]], &#34;op&#34;: {&#34;type&#34;: &#34;CX&#34;}}, {&#34;args&#34;: [[&#34;q&#34;, [2]]], &#34;op&#34;: {&#34;type&#34;: &#34;H&#34;}}, {&#34;args&#34;: [[&#34;q&#34;, [3]]], &#34;op&#34;: {&#34;type&#34;: &#34;H&#34;}}], &#34;created_qubits&#34;: [], &#34;discarded_qubits&#34;: [], &#34;implicit_permutation&#34;: [[[&#34;q&#34;, [0]], [&#34;q&#34;, [0]]], [[&#34;q&#34;, [1]], [&#34;q&#34;, [1]]], [[&#34;q&#34;, [2]], [&#34;q&#34;, [2]]], [[&#34;q&#34;, [3]], [&#34;q&#34;, [3]]]], &#34;phase&#34;: &#34;0.0&#34;, &#34;qubits&#34;: [[&#34;q&#34;, [0]], [&#34;q&#34;, [1]], [&#34;q&#34;, [2]], [&#34;q&#34;, [3]]]}&lt;/div&gt;\n",
       "        &lt;/div&gt;\n",
       "        &lt;circuit-display-container\n",
       "                :circuit-element-str=&#34;&#39;#circuit-json-to-display&#39;&#34;\n",
       "                :init-render-options=&#34;initRenderOptions&#34;\n",
       "        &gt;&lt;/circuit-display-container&gt;\n",
       "    &lt;/div&gt;\n",
       "    &lt;script type=&#34;application/javascript&#34;&gt;\n",
       "      const circuitRendererUid = &#34;9667f53b-0c8c-4518-b1b9-fe4f260da7b1&#34;;\n",
       "      const displayOptions = JSON.parse(&#39;{}&#39;);\n",
       "\n",
       "      // Script to initialise the circuit renderer app\n",
       "\n",
       "const { createApp } = Vue;\n",
       "const circuitDisplayContainer = window[&#34;pytket-circuit-renderer&#34;].default;\n",
       "// Init variables to be shared between circuit display instances\n",
       "if (typeof window.pytketCircuitDisplays === &#34;undefined&#34;) {\n",
       "    window.pytketCircuitDisplays = {};\n",
       "}\n",
       "// Create the root Vue component\n",
       "const app = createApp({\n",
       "    delimiters: [&#39;[[#&#39;, &#39;#]]&#39;],\n",
       "    components: { circuitDisplayContainer },\n",
       "    data () {\n",
       "      return {\n",
       "        initRenderOptions: displayOptions,\n",
       "      }\n",
       "    }\n",
       "})\n",
       "app.config.unwrapInjectedRef = true;\n",
       "app.mount(&#34;#circuit-display-vue-container-&#34;+circuitRendererUid);\n",
       "window.pytketCircuitDisplays[circuitRendererUid] = app;\n",
       "    &lt;/script&gt;\n",
       "\n",
       "\n",
       "\n",
       "&lt;/body&gt;\n",
       "&lt;/html&gt;\n",
       "\"\n",
       "            width=\"100%\" height=\"100%\"\n",
       "            style=\"border: none; outline: none; overflow: auto\"></iframe>\n",
       "</div>\n",
       "\n"
      ],
      "text/plain": [
       "<IPython.core.display.HTML object>"
      ]
     },
     "metadata": {},
     "output_type": "display_data"
    }
   ],
   "source": [
    "pauli_exp_box = box_circ.get_commands()[0].op\n",
    "render_circuit_jupyter(pauli_exp_box.get_circuit())"
   ]
  },
  {
   "cell_type": "markdown",
   "metadata": {},
   "source": [
    "## Trotter Step Box\n",
    "- We can wrap up the pauli gagets into a trotter step bix using CircBox"
   ]
  },
  {
   "cell_type": "code",
   "execution_count": 7,
   "metadata": {},
   "outputs": [],
   "source": [
    "trotter_step_box = CircBox(trotter_step_circ)"
   ]
  },
  {
   "cell_type": "markdown",
   "metadata": {},
   "source": [
    "## Hamiltonian Simulation\n",
    "- Define Operator to be simulated"
   ]
  },
  {
   "cell_type": "code",
   "execution_count": 8,
   "metadata": {},
   "outputs": [],
   "source": [
    "n_qubits = 4\n",
    "op_list = [QubitPauliString([Qubit(i)], [Pauli.Z]) for i in range(n_qubits)]\n"
   ]
  },
  {
   "cell_type": "markdown",
   "metadata": {},
   "source": [
    "## Initial State\n",
    "- Simple Fock State"
   ]
  },
  {
   "cell_type": "code",
   "execution_count": 9,
   "metadata": {},
   "outputs": [],
   "source": [
    "initial_state = Circuit(n_qubits).X(0).X(1)"
   ]
  },
  {
   "cell_type": "markdown",
   "metadata": {},
   "source": [
    "## Measure\n",
    "- Use `get_pauli_expectation_value` for pauli words\n",
    "- Use `get_operator_expectation_value` for linear combinations of paulis\n",
    "- Using a statevector backend with n_shots = None\n",
    "- This will work with a shots backend too"
   ]
  },
  {
   "cell_type": "code",
   "execution_count": 19,
   "metadata": {},
   "outputs": [],
   "source": [
    "from pytket.utils import get_pauli_expectation_value\n",
    "from pytket.extensions.qiskit import AerStateBackend\n",
    "results = {}\n",
    "\n",
    "# Statevector Backend\n",
    "backend = AerStateBackend()\n",
    "\n",
    "circ = initial_state\n",
    "for t in time_space:\n",
    "    circ.add_gate(trotter_step_box, circ.qubits)\n",
    "    results[t] = [get_pauli_expectation_value(circ.copy(), pauli, backend, n_shots=None) for pauli in op_list]\n",
    "    \n"
   ]
  },
  {
   "cell_type": "code",
   "execution_count": 17,
   "metadata": {},
   "outputs": [
    {
     "data": {
      "text/plain": [
       "<AxesSubplot: >"
      ]
     },
     "execution_count": 17,
     "metadata": {},
     "output_type": "execute_result"
    },
    {
     "data": {
      "image/png": "[encoded data removed]",
      "text/plain": [
       "<Figure size 640x480 with 1 Axes>"
      ]
     },
     "metadata": {},
     "output_type": "display_data"
    }
   ],
   "source": [
    "import pandas as pd\n",
    "results_df = pd.DataFrame.from_dict(results,orient='index', columns=[f'O{i}' for i in range(n_qubits)])\n",
    "results_df.plot()"
   ]
  },
  {
   "cell_type": "code",
   "execution_count": 18,
   "metadata": {},
   "outputs": [
    {
     "data": {
      "text/html": [
       "<div>\n",
       "<style scoped>\n",
       "    .dataframe tbody tr th:only-of-type {\n",
       "        vertical-align: middle;\n",
       "    }\n",
       "\n",
       "    .dataframe tbody tr th {\n",
       "        vertical-align: top;\n",
       "    }\n",
       "\n",
       "    .dataframe thead th {\n",
       "        text-align: right;\n",
       "    }\n",
       "</style>\n",
       "<table border=\"1\" class=\"dataframe\">\n",
       "  <thead>\n",
       "    <tr style=\"text-align: right;\">\n",
       "      <th></th>\n",
       "      <th>O0</th>\n",
       "      <th>O1</th>\n",
       "      <th>O2</th>\n",
       "      <th>O3</th>\n",
       "    </tr>\n",
       "  </thead>\n",
       "  <tbody>\n",
       "    <tr>\n",
       "      <th>0.000000</th>\n",
       "      <td>-0.769421</td>\n",
       "      <td>-0.951057</td>\n",
       "      <td>0.809017</td>\n",
       "      <td>0.809017</td>\n",
       "    </tr>\n",
       "    <tr>\n",
       "      <th>0.526316</th>\n",
       "      <td>-0.254617</td>\n",
       "      <td>-0.810193</td>\n",
       "      <td>0.313271</td>\n",
       "      <td>0.313271</td>\n",
       "    </tr>\n",
       "    <tr>\n",
       "      <th>1.052632</th>\n",
       "      <td>0.160786</td>\n",
       "      <td>-0.594135</td>\n",
       "      <td>-0.287254</td>\n",
       "      <td>-0.287254</td>\n",
       "    </tr>\n",
       "    <tr>\n",
       "      <th>1.578947</th>\n",
       "      <td>0.204040</td>\n",
       "      <td>-0.327214</td>\n",
       "      <td>-0.751662</td>\n",
       "      <td>-0.751662</td>\n",
       "    </tr>\n",
       "    <tr>\n",
       "      <th>2.105263</th>\n",
       "      <td>-0.066020</td>\n",
       "      <td>-0.037193</td>\n",
       "      <td>-0.896653</td>\n",
       "      <td>-0.896653</td>\n",
       "    </tr>\n",
       "    <tr>\n",
       "      <th>2.631579</th>\n",
       "      <td>-0.320254</td>\n",
       "      <td>0.248740</td>\n",
       "      <td>-0.671187</td>\n",
       "      <td>-0.671187</td>\n",
       "    </tr>\n",
       "    <tr>\n",
       "      <th>3.157895</th>\n",
       "      <td>-0.249345</td>\n",
       "      <td>0.506827</td>\n",
       "      <td>-0.176700</td>\n",
       "      <td>-0.176700</td>\n",
       "    </tr>\n",
       "    <tr>\n",
       "      <th>3.684211</th>\n",
       "      <td>0.163596</td>\n",
       "      <td>0.718035</td>\n",
       "      <td>0.375394</td>\n",
       "      <td>0.375394</td>\n",
       "    </tr>\n",
       "    <tr>\n",
       "      <th>4.210526</th>\n",
       "      <td>0.619421</td>\n",
       "      <td>0.868007</td>\n",
       "      <td>0.751357</td>\n",
       "      <td>0.751357</td>\n",
       "    </tr>\n",
       "    <tr>\n",
       "      <th>4.736842</th>\n",
       "      <td>0.749400</td>\n",
       "      <td>0.946416</td>\n",
       "      <td>0.791832</td>\n",
       "      <td>0.791832</td>\n",
       "    </tr>\n",
       "    <tr>\n",
       "      <th>5.263158</th>\n",
       "      <td>0.424475</td>\n",
       "      <td>0.946571</td>\n",
       "      <td>0.477801</td>\n",
       "      <td>0.477801</td>\n",
       "    </tr>\n",
       "    <tr>\n",
       "      <th>5.789474</th>\n",
       "      <td>-0.133458</td>\n",
       "      <td>0.865858</td>\n",
       "      <td>-0.061389</td>\n",
       "      <td>-0.061389</td>\n",
       "    </tr>\n",
       "    <tr>\n",
       "      <th>6.315789</th>\n",
       "      <td>-0.532447</td>\n",
       "      <td>0.707047</td>\n",
       "      <td>-0.601222</td>\n",
       "      <td>-0.601222</td>\n",
       "    </tr>\n",
       "    <tr>\n",
       "      <th>6.842105</th>\n",
       "      <td>-0.531657</td>\n",
       "      <td>0.479902</td>\n",
       "      <td>-0.914577</td>\n",
       "      <td>-0.914577</td>\n",
       "    </tr>\n",
       "    <tr>\n",
       "      <th>7.368421</th>\n",
       "      <td>-0.232940</td>\n",
       "      <td>0.202183</td>\n",
       "      <td>-0.865578</td>\n",
       "      <td>-0.865578</td>\n",
       "    </tr>\n",
       "    <tr>\n",
       "      <th>7.894737</th>\n",
       "      <td>0.017461</td>\n",
       "      <td>-0.100818</td>\n",
       "      <td>-0.466091</td>\n",
       "      <td>-0.466091</td>\n",
       "    </tr>\n",
       "    <tr>\n",
       "      <th>8.421053</th>\n",
       "      <td>-0.067390</td>\n",
       "      <td>-0.398643</td>\n",
       "      <td>0.128404</td>\n",
       "      <td>0.128404</td>\n",
       "    </tr>\n",
       "    <tr>\n",
       "      <th>8.947368</th>\n",
       "      <td>-0.463740</td>\n",
       "      <td>-0.659683</td>\n",
       "      <td>0.681945</td>\n",
       "      <td>0.681945</td>\n",
       "    </tr>\n",
       "    <tr>\n",
       "      <th>9.473684</th>\n",
       "      <td>-0.851356</td>\n",
       "      <td>-0.855963</td>\n",
       "      <td>0.974340</td>\n",
       "      <td>0.974340</td>\n",
       "    </tr>\n",
       "    <tr>\n",
       "      <th>10.000000</th>\n",
       "      <td>-0.882058</td>\n",
       "      <td>-0.967477</td>\n",
       "      <td>0.891025</td>\n",
       "      <td>0.891025</td>\n",
       "    </tr>\n",
       "  </tbody>\n",
       "</table>\n",
       "</div>"
      ],
      "text/plain": [
       "                 O0        O1        O2        O3\n",
       "0.000000  -0.769421 -0.951057  0.809017  0.809017\n",
       "0.526316  -0.254617 -0.810193  0.313271  0.313271\n",
       "1.052632   0.160786 -0.594135 -0.287254 -0.287254\n",
       "1.578947   0.204040 -0.327214 -0.751662 -0.751662\n",
       "2.105263  -0.066020 -0.037193 -0.896653 -0.896653\n",
       "2.631579  -0.320254  0.248740 -0.671187 -0.671187\n",
       "3.157895  -0.249345  0.506827 -0.176700 -0.176700\n",
       "3.684211   0.163596  0.718035  0.375394  0.375394\n",
       "4.210526   0.619421  0.868007  0.751357  0.751357\n",
       "4.736842   0.749400  0.946416  0.791832  0.791832\n",
       "5.263158   0.424475  0.946571  0.477801  0.477801\n",
       "5.789474  -0.133458  0.865858 -0.061389 -0.061389\n",
       "6.315789  -0.532447  0.707047 -0.601222 -0.601222\n",
       "6.842105  -0.531657  0.479902 -0.914577 -0.914577\n",
       "7.368421  -0.232940  0.202183 -0.865578 -0.865578\n",
       "7.894737   0.017461 -0.100818 -0.466091 -0.466091\n",
       "8.421053  -0.067390 -0.398643  0.128404  0.128404\n",
       "8.947368  -0.463740 -0.659683  0.681945  0.681945\n",
       "9.473684  -0.851356 -0.855963  0.974340  0.974340\n",
       "10.000000 -0.882058 -0.967477  0.891025  0.891025"
      ]
     },
     "execution_count": 18,
     "metadata": {},
     "output_type": "execute_result"
    }
   ],
   "source": [
    "results_df"
   ]
  },
  {
   "cell_type": "code",
   "execution_count": null,
   "metadata": {},
   "outputs": [],
   "source": []
  }
 ],
 "metadata": {
  "kernelspec": {
   "display_name": "Python 3",
   "language": "python",
   "name": "python3"
  },
  "language_info": {
   "codemirror_mode": {
    "name": "ipython",
    "version": 3
   },
   "file_extension": ".py",
   "mimetype": "text/x-python",
   "name": "python",
   "nbconvert_exporter": "python",
   "pygments_lexer": "ipython3",
   "version": "3.9.13"
  },
  "orig_nbformat": 4
 },
 "nbformat": 4,
 "nbformat_minor": 2
}
